{
  "nbformat": 4,
  "nbformat_minor": 0,
  "metadata": {
    "colab": {
      "name": "rides2.ipynb",
      "provenance": [],
      "collapsed_sections": [],
      "toc_visible": true,
      "include_colab_link": true
    },
    "kernelspec": {
      "name": "python3",
      "display_name": "Python 3"
    }
  },
  "cells": [
    {
      "cell_type": "markdown",
      "metadata": {
        "id": "view-in-github",
        "colab_type": "text"
      },
      "source": [
        "<a href=\"https://colab.research.google.com/github/epogrebnyak/rides/blob/master/rides2.ipynb\" target=\"_parent\"><img src=\"https://colab.research.google.com/assets/colab-badge.svg\" alt=\"Open In Colab\"/></a>"
      ]
    },
    {
      "cell_type": "markdown",
      "metadata": {
        "id": "VBp_HEEEyELa",
        "colab_type": "text"
      },
      "source": [
        "# Описание работ "
      ]
    },
    {
      "cell_type": "markdown",
      "metadata": {
        "id": "_8P2S3-hzS1B",
        "colab_type": "text"
      },
      "source": [
        "Цель - показать сходимость треков поездок с разными параметрами и допущениями.\n",
        "\n",
        "Требования: нам нужна более или менее автономная процедура с минимумом ручных действий, которая показывает близкие треки.\n",
        "\n",
        "Шаги решения:\n",
        "\n",
        "- выбираем группы рейсов для анализа\n",
        "и период анализа\n",
        "- задаем параметры алгоритма сходимости\n",
        "- запускаем вычисления\n",
        "- просматриваем примеры близких рейсов\n",
        "\n",
        "Выбор групп рейсов включает в себя:\n",
        "\n",
        "- типы автомобилей (автобусы, грузовые, легковые, спецтранспорт)\n",
        "- за какое время или какие дни берем рейсы\n",
        "- другие признаки рейсов\n",
        "\n",
        "На выходе:\n",
        "\n",
        "- ранжирование всех треков попарно по сходимости, `n*(n-1)/2` пар\n",
        "- каталог наиболее близких маршрутов (примеров сходимости)\n",
        "\n",
        "Отличия от \"тяжелого\" алгоритма:\n",
        "\n",
        "- в данном алгоритме мы смотрим на сходимость треков по их географии, и не проверяем сходимость по времени поездки (в отличие от \"тяжелого\" алгоритма, где мы смотрим конкретное время поездки последовательно от начала поездки)\n",
        "- время поездки может произвольно переноситься (напрямую применимо к грузовым, менее применимо  к пассажирским и легковым автомобилям)\n",
        "- мы не учитываем отдельно остановки, рассматриваем близость произвольных всех маршрутов \n",
        "- нет привяки к конкретным городам\n",
        "\n",
        "\n",
        "\n",
        "Гипотезы и определения:\n",
        "\n",
        "1. треки разбиваются по суткам, все заказы внутри суток объединяются\n",
        "1. первая точка каждой зарегистрированной поездки - остановка с нулевой продолжительностью\n",
        "1. \"автобусы\" - автомобили вместимостью не менее 8 человек\n"
      ]
    },
    {
      "cell_type": "markdown",
      "metadata": {
        "id": "kg6kdMmxfzc-",
        "colab_type": "text"
      },
      "source": [
        "# Подготовка данных"
      ]
    },
    {
      "cell_type": "markdown",
      "metadata": {
        "id": "X8Ndu1WqYegd",
        "colab_type": "text"
      },
      "source": [
        "## Устанавливаем скрипты для работы с данными\n"
      ]
    },
    {
      "cell_type": "markdown",
      "metadata": {
        "id": "gEyIRGeeOvxh",
        "colab_type": "text"
      },
      "source": [
        "Скрипты копируются из удаленного репозитария путем копирования `zip` файла.\n",
        "\n",
        "Альтернативы доставки:\n",
        "\n",
        "- пакет для `git clone && pip install`\n",
        "- держать скрипты в папке Dropbox\n",
        "- копировать средствами `google.colab`\n",
        "- копировать [по одному файлу](https://github.com/epogrebnyak/rides/issues/1)\n",
        "\n",
        "Критерии выбора способы доставки: \n",
        "- простота путей к файлам данных\n",
        "- плоская структура файлов\n",
        "- контроль версий и тестирование скриптов\n",
        "- чистота структуры папки."
      ]
    },
    {
      "cell_type": "markdown",
      "metadata": {
        "id": "CXWopUWv-UYA",
        "colab_type": "text"
      },
      "source": [
        "## Определяем источник данных\n",
        "\n",
        "\n",
        "\n",
        "\n"
      ]
    },
    {
      "cell_type": "markdown",
      "metadata": {
        "id": "TK7xkii5PmjQ",
        "colab_type": "text"
      },
      "source": [
        "Для доступа к данным необходимо предоставить URL к zip-файлу (устанавливается в следующей ячейке в константе `RAW_DATA_URL`).\n",
        "\n",
        "Чтобы обычная ссылка Dropbox стала скачиваемой напрямую в ней надо заменить адрес `www.dropbox.com` на `dl.dropboxusercontent.com`."
      ]
    },
    {
      "cell_type": "markdown",
      "metadata": {
        "id": "wC-Hk8ZNxEKZ",
        "colab_type": "text"
      },
      "source": [
        "## Загружаем исходные треки поездок\n"
      ]
    },
    {
      "cell_type": "code",
      "metadata": {
        "id": "DDs1kfqYwcdz",
        "colab_type": "code",
        "outputId": "104bce15-5504-4510-ed79-084ab507927a",
        "colab": {
          "base_uri": "https://localhost:8080/",
          "height": 948
        }
      },
      "source": [
        "import os\n",
        "\n",
        "# Устанавливаем пакеты\n",
        "if not os.path.exists('master.zip'):\n",
        "  !wget -O master.zip https://github.com/epogrebnyak/rides/archive/master.zip\n",
        "  !unzip -o master.zip -d .\n",
        "for file in ['curl.py', 'distance.py', 'rides.py', 'vectors.py']:\n",
        "   if not os.path.exists(file):\n",
        "     !cp -v ./rides-master/{file} .\n",
        "\n",
        "# Ссылка URL c данными и имя файла с данными\n",
        "RAW_DATA_URL = (\"https://dl.dropboxusercontent.com\" \n",
        "                \"/sh/hibzl6fkzukltk9/AABTFmhvDvxyQdUaBsKl4h59a/\"\n",
        "                \"data_samples_json.zip\")\n",
        "\n",
        "# Загружаем файлы программ\n",
        "from curl import Files\n",
        "if not os.path.exists(Files.RAW_ZIP_FILE):\n",
        "  !wget -O {Files.RAW_ZIP_FILE} {RAW_DATA_URL}\n",
        "  !mkdir -p {Files.RAW_JSON_FOLDER}\n",
        "  !unzip -o {Files.RAW_ZIP_FILE}  -d {Files.RAW_JSON_FOLDER} > /dev/null\n",
        "\n",
        "# Проверим наличие файлов данных\n",
        "!echo Raw file count:\n",
        "!find {Files.RAW_JSON_FOLDER} -type f | wc -l  "
      ],
      "execution_count": 1,
      "outputs": [
        {
          "output_type": "stream",
          "text": [
            "--2020-03-30 19:38:56--  https://github.com/epogrebnyak/rides/archive/master.zip\n",
            "Resolving github.com (github.com)... 192.30.255.113\n",
            "Connecting to github.com (github.com)|192.30.255.113|:443... connected.\n",
            "HTTP request sent, awaiting response... 302 Found\n",
            "Location: https://codeload.github.com/epogrebnyak/rides/zip/master [following]\n",
            "--2020-03-30 19:38:56--  https://codeload.github.com/epogrebnyak/rides/zip/master\n",
            "Resolving codeload.github.com (codeload.github.com)... 192.30.255.120\n",
            "Connecting to codeload.github.com (codeload.github.com)|192.30.255.120|:443... connected.\n",
            "HTTP request sent, awaiting response... 200 OK\n",
            "Length: unspecified [application/zip]\n",
            "Saving to: ‘master.zip’\n",
            "\n",
            "\rmaster.zip              [<=>                 ]       0  --.-KB/s               \rmaster.zip              [ <=>                ] 638.72K  --.-KB/s    in 0.04s   \n",
            "\n",
            "2020-03-30 19:38:57 (15.3 MB/s) - ‘master.zip’ saved [654047]\n",
            "\n",
            "Archive:  master.zip\n",
            "5de8d7a3bd66f1c77f1666b22b708557a0329dc3\n",
            "   creating: ./rides-master/\n",
            "  inflating: ./rides-master/.gitignore  \n",
            "  inflating: ./rides-master/README.md  \n",
            "  inflating: ./rides-master/curl.py  \n",
            "  inflating: ./rides-master/distance.py  \n",
            "  inflating: ./rides-master/rides.ipynb  \n",
            "  inflating: ./rides-master/rides.py  \n",
            "   creating: ./rides-master/sample_jsons/\n",
            "  inflating: ./rides-master/sample_jsons/21ac49b6-ec29-11e9-a751-2c59e53f5668.json  \n",
            "  inflating: ./rides-master/sample_jsons/ab5a6a8a-dae1-11e9-80f2-10604ba895dc.json  \n",
            "  inflating: ./rides-master/sample_jsons/jsons.zip  \n",
            "  inflating: ./rides-master/sample_jsons/sample.json  \n",
            "  inflating: ./rides-master/test_curl.py  \n",
            "  inflating: ./rides-master/test_rides.py  \n",
            "  inflating: ./rides-master/test_vectors.py  \n",
            "  inflating: ./rides-master/vectors.py  \n",
            "'./rides-master/curl.py' -> './curl.py'\n",
            "'./rides-master/distance.py' -> './distance.py'\n",
            "'./rides-master/rides.py' -> './rides.py'\n",
            "'./rides-master/vectors.py' -> './vectors.py'\n",
            "--2020-03-30 19:39:20--  https://dl.dropboxusercontent.com/sh/hibzl6fkzukltk9/AABTFmhvDvxyQdUaBsKl4h59a/data_samples_json.zip\n",
            "Resolving dl.dropboxusercontent.com (dl.dropboxusercontent.com)... 162.125.1.6, 2620:100:6016:6::a27d:106\n",
            "Connecting to dl.dropboxusercontent.com (dl.dropboxusercontent.com)|162.125.1.6|:443... connected.\n",
            "HTTP request sent, awaiting response... 200 OK\n",
            "Length: 122716955 (117M) [application/zip]\n",
            "Saving to: ‘data/jsons.zip’\n",
            "\n",
            "data/jsons.zip      100%[===================>] 117.03M  25.2MB/s    in 4.5s    \n",
            "\n",
            "2020-03-30 19:39:25 (25.8 MB/s) - ‘data/jsons.zip’ saved [122716955/122716955]\n",
            "\n",
            "Raw file count:\n",
            "3464\n"
          ],
          "name": "stdout"
        }
      ]
    },
    {
      "cell_type": "markdown",
      "metadata": {
        "id": "q1wyqjg_fHjy",
        "colab_type": "text"
      },
      "source": [
        "## Создаем локальные CSV файлы и считываем данные в датафреймы \n",
        "\n",
        "- Получаем константы `VEHICLES` и `VEHICLE_TYPES`.\n",
        "- Создаем переменную `df_full`. \n",
        "- Переменную также можно проверить на корректную длину, например, ```assert df_full.shape == (9065205, 9)```. Проверка сейчас убрана из кода, потому что заранее размер фрейма для новых данных будет неизвестен. \n",
        "- Время работы ячейки ниже 2-5 минут, но при перезапуске - сохраняется.\n"
      ]
    },
    {
      "cell_type": "code",
      "metadata": {
        "id": "F6sbvm06bIn7",
        "colab_type": "code",
        "outputId": "5e68aa36-84ec-402a-aafe-3009cb124e86",
        "colab": {
          "base_uri": "https://localhost:8080/",
          "height": 53
        }
      },
      "source": [
        "from rides import Dataset\n",
        "\n",
        "# Привязываемся к местным каталогам\n",
        "d = Dataset(raw_data_dir=Files.RAW_JSON_FOLDER,\n",
        "            cache_dir=Files.TEMP_FOLDER)\n",
        "\n",
        "# Строим промежуточные файлы - обрабатывается 9 млн строк\n",
        "d.build()\n",
        "\n",
        "# Избегаем повторного создания переменной df_full, если она уже в памяти\n",
        "#\n",
        "# Eсли надо пересобрать датасет, то можно перезапустить colab или\n",
        "# del df_full \n",
        "#\n",
        "try:\n",
        "  df_full\n",
        "except NameError:  \n",
        "  df_full = d.get_dataframe()\n",
        "\n",
        "# Получаем константы\n",
        "VEHICLES = d.vehicle_summary()\n",
        "VEHICLE_TYPES = d.vehicle_types()\n",
        "\n",
        "# Показываем пример данных\n",
        "df_full.head()"
      ],
      "execution_count": 0,
      "outputs": [
        {
          "output_type": "stream",
          "text": [
            "9065205 rows [02:50, 53188.27 rows/s]\n"
          ],
          "name": "stderr"
        },
        {
          "output_type": "stream",
          "text": [
            "dataframe_with_distances() took 182.60 sec\n"
          ],
          "name": "stdout"
        }
      ]
    },
    {
      "cell_type": "markdown",
      "metadata": {
        "id": "dgD-yfjyPc5f",
        "colab_type": "text"
      },
      "source": [
        "Для многих машин типа \"freight\" указана грузоподъемность 1."
      ]
    },
    {
      "cell_type": "code",
      "metadata": {
        "id": "j3AcPYb8Rj6z",
        "colab_type": "code",
        "colab": {}
      },
      "source": [
        "def category(car_id, mapper=VEHICLES):\n",
        "  return mapper[mapper.car_id == car_id].category.iloc[0] \n",
        "\n",
        "assert category('1402ab8f-478a-4d9b-bc78-b5f2ba4db319') == 'Автобус\\Городской'\n",
        "VEHICLES.query('type==\"freight\"').cat_carry_weight.sort_values()"
      ],
      "execution_count": 0,
      "outputs": []
    },
    {
      "cell_type": "markdown",
      "metadata": {
        "id": "FxxZPNjMgiwl",
        "colab_type": "text"
      },
      "source": [
        "# Поиск сходимости\n"
      ]
    },
    {
      "cell_type": "markdown",
      "metadata": {
        "id": "IEXZ9CBbGibb",
        "colab_type": "text"
      },
      "source": [
        "Приницпиальный алгоритм для пары треков:\n",
        "\n",
        "1. надо пометить все точки трека, которые были рядом с любыми точками другого трека, вне зависимости от времени. \n",
        "\n",
        "2. определить, были ли эти близкие точки реалистичными по времени (могла ли произойти доставка). \n",
        "\n",
        "\n",
        "Проблемы:\n",
        "\n",
        "- нужно посчитать около 3000*3000 дистанций, если мы ведем перебор по всем точкам пути\n",
        "- не ясно, что считать хорошим пересечением или реалистичной доставкой. Например, в случае если машины паркуются на одной базе, но ездят в разные стороны, их треки сходятся утром и вечером, но это не делает поездки взаимозаменяемыми.\n",
        "\n",
        "Какие задачи нам надо решить дальше:\n",
        "\n",
        "- создание выборки треков\n",
        "- отрисовка выборки или пары треков\n",
        "- упрощение трека, для того чтобы уменьшить количество расчетов\n",
        "- собственно поиск сходимости \n"
      ]
    },
    {
      "cell_type": "markdown",
      "metadata": {
        "id": "JtJGK6KUaedJ",
        "colab_type": "text"
      },
      "source": [
        "\n",
        "### Функции работы с треком"
      ]
    },
    {
      "cell_type": "code",
      "metadata": {
        "id": "yqkN-cswWchF",
        "colab_type": "code",
        "colab": {}
      },
      "source": [
        "\"\"\"Функции работы с одним треком\"\"\"\n",
        "\n",
        "from typing import Tuple\n",
        "import numpy as np\n",
        "import pandas as pd \n",
        "\n",
        "from distance import distance_km\n",
        "\n",
        "Trip = pd.DataFrame \n",
        "Coord = Tuple[float, float]\n",
        "\n",
        "def lat_lon(x: pd.Series) -> Coord:\n",
        "  \"\"\"Получить широту и долготу точки трека.\"\"\"\n",
        "  return (x.lat, x.lon)\n",
        "\n",
        "def rev(coord: Coord) -> Coord:\n",
        "  \"\"\"Переставить местами широту и долготу (для отрисовки на графиках)\"\"\"\n",
        "  return coord[1], coord[0]\n",
        "\n",
        "def fst(t: Trip):\n",
        "  return lat_lon(t.iloc[0])\n",
        "\n",
        "def lst(t: Trip):\n",
        "  return lat_lon(t.iloc[-1])\n",
        "\n",
        "def drift(f):\n",
        "  return distance_km(fst(t), lst(t)) \n",
        "\n",
        "def is_same_base(f, search_radius_km=1):\n",
        "  return drift(t) < search_radius_km\n",
        "\n",
        "def ends(t):\n",
        "  a = fst(t)\n",
        "  b = lst(t)\n",
        "  return rev(a), rev(b) # (x1, y1), (x2, y2)\n",
        "\n",
        "def points(t) -> np.ndarray:\n",
        "  tuples = t.apply(lat_lon, axis=1).to_list()\n",
        "  return np.array(tuples)\n",
        "\n",
        "def length(t, precision=1):\n",
        "  return round(t.iloc[-1].milage, precision) \n",
        "\n",
        "def inner(t, a=0.15, b=0.85) -> [bool]:\n",
        "   x = t.milage / length(t)\n",
        "   return (x >= a) & (x <= b)\n",
        "\n",
        "def car_id(t):\n",
        "   return t.iloc[0].car\n",
        "\n",
        "def date(t):\n",
        "   return t.iloc[0].date.strftime('%Y-%m-%d')\n",
        "\n",
        "from dataclasses import dataclass\n",
        "\n",
        "@dataclass\n",
        "class TripSummary:\n",
        "  milage: float\n",
        "  date: str\n",
        "  category: str\n",
        "  car: str\n",
        "\n",
        "def describe(t: Trip) -> TripSummary:\n",
        "  c = car_id(t)\n",
        "  return TripSummary(length(t), date(t), category(c), c)"
      ],
      "execution_count": 0,
      "outputs": []
    },
    {
      "cell_type": "code",
      "metadata": {
        "id": "rm-ecn5cZ--x",
        "colab_type": "code",
        "colab": {}
      },
      "source": [
        "import pandas as pd\n",
        "t1 = pd.read_json('{\"time\":{\"414822\":\"06:48:12\",\"415179\":\"09:02:23\",\"415503\":\"09:47:11\",\"415631\":\"10:09:45\",\"415895\":\"10:37:44\",\"416077\":\"10:55:31\",\"416293\":\"11:30:33\",\"416930\":\"13:21:53\",\"417115\":\"13:38:10\",\"417251\":\"13:53:37\",\"417298\":\"13:59:48\"},\"lon\":{\"414822\":20.492528,\"415179\":20.58852,\"415503\":20.615398,\"415631\":20.543102,\"415895\":20.493774,\"416077\":20.560882,\"416293\":20.47951,\"416930\":20.523266,\"417115\":20.520946,\"417251\":20.56599,\"417298\":20.618018},\"lat\":{\"414822\":54.693928,\"415179\":54.682088,\"415503\":54.678524,\"415631\":54.667,\"415895\":54.696848,\"416077\":54.711504,\"416293\":54.692384,\"416930\":54.688972,\"417115\":54.67614,\"417251\":54.644876,\"417298\":54.677288},\"date\":{\"414822\":1568246400000,\"415179\":1568246400000,\"415503\":1568246400000,\"415631\":1568246400000,\"415895\":1568246400000,\"416077\":1568246400000,\"416293\":1568246400000,\"416930\":1568246400000,\"417115\":1568246400000,\"417251\":1568246400000,\"417298\":1568246400000},\"car\":{\"414822\":\"a8185e3b-82a6-42a6-8673-4b3ca8349b7b\",\"415179\":\"a8185e3b-82a6-42a6-8673-4b3ca8349b7b\",\"415503\":\"a8185e3b-82a6-42a6-8673-4b3ca8349b7b\",\"415631\":\"a8185e3b-82a6-42a6-8673-4b3ca8349b7b\",\"415895\":\"a8185e3b-82a6-42a6-8673-4b3ca8349b7b\",\"416077\":\"a8185e3b-82a6-42a6-8673-4b3ca8349b7b\",\"416293\":\"a8185e3b-82a6-42a6-8673-4b3ca8349b7b\",\"416930\":\"a8185e3b-82a6-42a6-8673-4b3ca8349b7b\",\"417115\":\"a8185e3b-82a6-42a6-8673-4b3ca8349b7b\",\"417251\":\"a8185e3b-82a6-42a6-8673-4b3ca8349b7b\",\"417298\":\"a8185e3b-82a6-42a6-8673-4b3ca8349b7b\"},\"milage\":{\"414822\":0.0,\"415179\":7.9059718093,\"415503\":15.9581903169,\"415631\":23.9072036886,\"415895\":31.5229710741,\"416077\":39.4408790499,\"416293\":47.2903677362,\"416930\":55.1975877328,\"417115\":63.1133510396,\"417251\":71.0959317975,\"417298\":78.8072213826},\"duration\":{\"414822\":0.0,\"415179\":2.2363888889,\"415503\":2.9830555556,\"415631\":3.3591666667,\"415895\":3.8255555556,\"416077\":4.1219444444,\"416293\":4.7058333333,\"416930\":6.5613888889,\"417115\":6.8327777778,\"417251\":7.0902777778,\"417298\":7.1933333333}}')\n",
        "d = describe(t1) \n",
        "assert d.milage==78.8\n",
        "assert d.date=='2019-09-12'\n",
        "assert d.category=='Грузовой\\\\Грузопассажирский '\n",
        "assert d.car=='a8185e3b-82a6-42a6-8673-4b3ca8349b7b'"
      ],
      "execution_count": 0,
      "outputs": []
    },
    {
      "cell_type": "code",
      "metadata": {
        "id": "ROVgSpUbNw-2",
        "colab_type": "code",
        "colab": {}
      },
      "source": [
        "\"\"\"Функции для уменьшения количества точек в треке\"\"\"\n",
        "\n",
        "from vectors import growing_index, percentile_index, qs\n",
        "\n",
        "def equidist(t, step_km):\n",
        "  \"\"\"Взять равные промежутки по *step_km* расстояния.\"\"\"\n",
        "  ix = growing_index(t.milage, step_km)\n",
        "  return t.iloc[ix,:]\n",
        "\n",
        "def equitime(t, step_min=5):\n",
        "  \"\"\"Взять равные промежутки по *step_min* минут времени.\"\"\"\n",
        "  time = step_min/60\n",
        "  ix = growing_index(t.duration, time)\n",
        "  return t.iloc[ix,:]\n",
        "\n",
        "def spaced_dist(t, n: int, start=False, end=False):\n",
        "  \"\"\"Взять *n* равных промежутков по расстоянию.\n",
        "  Опционально исключить начало и конец трека.\n",
        "  \"\"\"\n",
        "  ix = percentile_index(t.milage, qs(n, start, end))\n",
        "  return t.iloc[ix,:]\n",
        "\n",
        "def spaced_time(t, n: int, start=False, end=False):\n",
        "  \"\"\"Взять *n* равных промежутков по времени.\n",
        "  Опционально исключить начало и конец трека.\n",
        "  \"\"\"\n",
        "  ix = percentile_index(t.duration, qs(n, start, end))\n",
        "  return t.iloc[ix,:]"
      ],
      "execution_count": 0,
      "outputs": []
    },
    {
      "cell_type": "code",
      "metadata": {
        "id": "MSBBZ1GxfgMr",
        "colab_type": "code",
        "colab": {}
      },
      "source": [
        "\"\"\"Графические функции для отрисовки треков\"\"\"\n",
        "\n",
        "import matplotlib.pyplot as plt\n",
        "from matplotlib import cm \n",
        "\n",
        "def get_color(i, n):\n",
        "  if n<=10:\n",
        "    cmap = cm.get_cmap(name='tab10')\n",
        "    return cmap(i)\n",
        "  else:\n",
        "    cmap = cm.get_cmap(name='jet')\n",
        "    return cmap(i/n)\n",
        "\n",
        "def yield_trip_and_color(trips):\n",
        "  n = len(trips)\n",
        "  for i, t in enumerate(trips):\n",
        "    col = get_color(i, n) \n",
        "    yield t, col\n",
        "\n",
        "def make_plotter(axis_plotter_func):\n",
        "  def plotter(trips, ax=None, title=''):\n",
        "    if ax is None:\n",
        "      f, ax = plt.subplots()\n",
        "    n = len(trips)\n",
        "    for i, t in enumerate(trips):\n",
        "      col = get_color(i, n)\n",
        "      axis_plotter_func(ax, t, col)\n",
        "    ax.set_title(title)   \n",
        "    return ax\n",
        "  return plotter\n",
        "\n",
        "def scatter(ax, t, col):\n",
        "    ax.scatter(x=t.lon, y=t.lat, s=0.5, alpha=0.8, color=col)\n",
        "\n",
        "def segments(ax, t, col):\n",
        "    ax.plot(t.lon, t.lat, \n",
        "            lw=1, alpha=0.8, \n",
        "            linestyle=':', \n",
        "            color=col)  \n",
        "\n",
        "def two_ends(ax, t, col):\n",
        "    (x1, y1), (x2, y2) = ends(t)\n",
        "    args = dict(s=60, edgecolors='white', alpha=0.8)\n",
        "    ax.scatter(x=x1, y=y1, \n",
        "               marker='s', \n",
        "               color=col, \n",
        "               **args) \n",
        "    visual_offset = 0.005\n",
        "    ax.scatter(x=x2+visual_offset, y=y2+visual_offset,\n",
        "               marker='o', \n",
        "               color=col, \n",
        "               **args) \n",
        "\n",
        "def draw_drift(ax, t, col):\n",
        "  (x1, y1), (x2, y2) = ends(t)\n",
        "  plt.plot([x1, x2], [y1, y2], marker=None, lw=0.5, color=col)\n",
        "\n",
        "plot_points      = make_plotter(scatter)\n",
        "plot_connections = make_plotter(segments)\n",
        "plot_bases       = make_plotter(two_ends)\n",
        "plot_drift       = make_plotter(draw_drift)\n",
        "\n",
        "def plot_trips(trips, title='', ax=None):\n",
        "  ax = plot_points(trips, ax)\n",
        "  plot_connections(trips, ax)\n",
        "  plot_bases(trips, ax, title)\n",
        "\n",
        "def plot_heatmap(mat, add_values=False, figsize=(9, 6)):\n",
        "  import seaborn as sns\n",
        "  f, ax = plt.subplots(figsize=figsize)\n",
        "  sns.heatmap(mat,  \n",
        "              vmin=0,  \n",
        "              cmap=\"pink\",\n",
        "              annot=add_values,\n",
        "              cbar=True,\n",
        "              ax=ax)\n",
        "  ax.invert_yaxis()\n",
        "  plt.title(\"Расстояния между точками треков, км\")\n",
        "  plt.show()\n",
        "\n",
        "# Полезно для анализа циклических треков:\n",
        "# расстояния между точками трека \"сам на себя\"\n",
        "#\n",
        "# plot_heatmap(get_distances(t1, t1))"
      ],
      "execution_count": 0,
      "outputs": []
    },
    {
      "cell_type": "markdown",
      "metadata": {
        "id": "pb6Te4ZqFghA",
        "colab_type": "text"
      },
      "source": [
        "\n",
        "### Формирование выборки треков (класс Sample)\n",
        "\n",
        "*Выборка треков*: все треки, которые мы анализируем на предмет сходимости, например, все поездки автобусов за неделю. \n",
        "\n",
        "Мы всегда сравниваем суточные треки ('машино-дни'). \n",
        "\n",
        "В максимальной группе сравнения 3724 'машино-дней', по автобусам и легковым - 1369 'машино-дней'. В используемом нами примере 49 треков ('машино-дней').\n",
        "\n",
        "Переменные:\n",
        "\n",
        "- `df_full: pd.DataFrame` - исходные данные треков (каждый трек содержит несколько тысяч точек) \n",
        "- `raw_trips: [pd.DataFrame]` - список из выбранных треков\n",
        "- `trips: [pd.DataFrame]` - список из тех же выбранных треков, трек каждой поездки упрощен (небольшое количество точек - десятки или сотни).\n",
        "К исходным данным добавлены продолжительность поездки и пробег от начала поездки (в каждой точке).\n"
      ]
    },
    {
      "cell_type": "code",
      "metadata": {
        "id": "aytshM06x3bd",
        "colab_type": "code",
        "colab": {}
      },
      "source": [
        "\"\"\"Приведение трека в стандартный вид и выборка треков.\"\"\"\n",
        "\n",
        "from dataclasses import dataclass, field\n",
        "import pandas as pd\n",
        "\n",
        "pd.set_option('mode.chained_assignment',None)\n",
        "\n",
        "def as_list(xs):\n",
        "  return xs if isinstance(xs, list) else [xs]\n",
        "\n",
        "def subset(df_full, date_strings: [str], car_types: [str]) -> pd.DataFrame:\n",
        "  \"\"\"Выборка треков из *df_full*\"\"\"\n",
        "  car_types = as_list(car_types)\n",
        "  dates = [pd.Timestamp(dt).date() for dt in as_list(date_strings)]\n",
        "  ix = df_full.date.isin(dates)\n",
        "  ix = ix & (df_full.type.isin(car_types))\n",
        "  return df_full[ix].sort_values(['date', 'car', 'time'])\n",
        "\n",
        "def make_trip_list(selection: pd.DataFrame) -> [pd.DataFrame]:  \n",
        "  trips = []\n",
        "  for date in selection.date.unique():\n",
        "   for car in selection.car.unique():\n",
        "    ix = (selection.car == car) & (selection.date == date)\n",
        "    trip = selection[ix]\n",
        "    trips.append(trip)\n",
        "  return [strip(t) for t in trips]\n",
        "\n",
        "def strip(t: pd.DataFrame) -> pd.DataFrame:\n",
        "  \"\"\"Приведение трека в стандартный вид\"\"\"\n",
        "  res = t[['time', 'lon', 'lat', 'date', 'car']]\n",
        "  res['time'] = t.time.apply(lambda x: x.time())\n",
        "  res['milage'] = t.dist.cumsum()\n",
        "  res['duration'] = t.time_delta.cumsum() / (60*60)\n",
        "  return res\n",
        "\n",
        "@dataclass\n",
        "class Sample:\n",
        "  raw: [pd.DataFrame]\n",
        "  reduced: [pd.DataFrame] = field(default_factory=list)\n",
        "  \n",
        "  def __len__(self) -> int:\n",
        "    return len(self.raw)  \n",
        "\n",
        "  def random_index(self) -> int:\n",
        "    from random import randint \n",
        "    return randint(0, len(self))\n",
        "\n",
        "  def combinations(self):\n",
        "    from itertools import combinations\n",
        "    N = len(self)\n",
        "    return combinations(range(N),2)\n",
        "\n",
        "def make_sample(df, func=None):\n",
        "  raw_trips = make_trip_list(df)\n",
        "  sample = Sample(raw_trips)\n",
        "  if func is None: \n",
        "    return sample\n",
        "  else:   \n",
        "    return reduce_with(sample, func)  \n",
        "\n",
        "def reduce_with(sample, func):\n",
        "  raw = sample.raw\n",
        "  reduced = [func(t) for t in raw] \n",
        "  return Sample(raw, reduced)\n"
      ],
      "execution_count": 0,
      "outputs": []
    },
    {
      "cell_type": "code",
      "metadata": {
        "id": "h3WG4Nex_pmC",
        "colab_type": "code",
        "colab": {}
      },
      "source": [
        "# Создаем выборку треков по дням и типам машин\n",
        "days = ['2019-09-12']\n",
        "modes = ['freight']\n",
        "df_ = subset(df_full, days, modes)\n",
        "sample = make_sample(df_)\n",
        "\n",
        "# Упрощаем треки \n",
        "spacing_10 = lambda t: spaced_dist(t, n=10, start=True, end=True)\n",
        "sample = reduce_with(sample, spacing_10)"
      ],
      "execution_count": 0,
      "outputs": []
    },
    {
      "cell_type": "code",
      "metadata": {
        "id": "wLNhZMxPVcZl",
        "colab_type": "code",
        "colab": {}
      },
      "source": [
        "# Нарисуем что получилось\n",
        "trips = sample.reduced\n",
        "raw_trips = sample.raw\n",
        "\n",
        "ax = plot_points(trips)\n",
        "msg = f'Выборка {modes} {days}, {len(trips)} поездок'\n",
        "plot_connections(trips, ax, title=msg)\n",
        "plt.show()\n",
        "\n",
        "ax = plot_bases(trips)\n",
        "plot_drift(trips, ax, title='Начало и конец треков')\n",
        "plt.show()"
      ],
      "execution_count": 0,
      "outputs": []
    },
    {
      "cell_type": "code",
      "metadata": {
        "id": "DFJqYhpZWy9F",
        "colab_type": "code",
        "colab": {}
      },
      "source": [
        "# \"\"\"Экспериментальная отрисовка 3D\"\"\"\n",
        "trips = sample.reduced\n",
        "import matplotlib.pyplot as plt\n",
        "from mpl_toolkits.mplot3d import Axes3D\n",
        "fig = plt.figure()\n",
        "ax = fig.add_subplot(111, projection='3d')\n",
        "for i,t in enumerate(trips):\n",
        "  ax.plot(t.lon, t.lat, zs=i)  "
      ],
      "execution_count": 0,
      "outputs": []
    },
    {
      "cell_type": "markdown",
      "metadata": {
        "id": "gWlTP8rIqxpg",
        "colab_type": "text"
      },
      "source": [
        "### Отрисовка пары треков из выборки \n",
        "\n",
        "Предположим мы выбрали группу треков и упростили их. У нас есть пара треков, `t1` и `t2`. Покажем эти два трека на рисунках."
      ]
    },
    {
      "cell_type": "code",
      "metadata": {
        "id": "1EJrAhhD7Mz8",
        "colab_type": "code",
        "colab": {}
      },
      "source": [
        "def plot_raw_and_reduced(r1, r2, t1, t2, title=\"Общий заголовок\"):\n",
        "  fig, (ax1, ax2) = plt.subplots(nrows=1, ncols=2, \n",
        "                                 figsize=(10,4), \n",
        "                                 sharex=True, sharey=True) \n",
        "  plot_trips([r1, r2], ax=ax1, title=\"Исходные треки\")\n",
        "  plot_trips([t1, t2], ax=ax2, title=\"Упрощенные треки\")\n",
        "  plt.suptitle(title)\n",
        "  plt.show()\n",
        "\n",
        "def plot_two(sample: Sample, i: int, j: int):\n",
        "  \"\"\"Отрисовка пары маршрутов по индексам в выборке.\"\"\"\n",
        "  r1, r2 = sample.raw[i], sample.raw[j]\n",
        "  t1, t2 = sample.reduced[i], sample.reduced[j] \n",
        "  title = f\"Поездки {i} и {j}\"\n",
        "  plot_raw_and_reduced(r1, r2, t1, t2, title)  \n",
        "\n",
        "a, b = 17, 35\n",
        "t1 = trips[a]\n",
        "t2 = trips[b]\n",
        "r1 = raw_trips[a]\n",
        "r2 = raw_trips[b]\n",
        "assert describe(t1) == describe(r1)\n",
        "\n",
        "print(describe(r1))\n",
        "plot_raw_and_reduced(r1, r2, t1, t2)"
      ],
      "execution_count": 0,
      "outputs": []
    },
    {
      "cell_type": "markdown",
      "metadata": {
        "id": "ToLuDJzyJ3GG",
        "colab_type": "text"
      },
      "source": [
        "### Пример: случайная пара треков из выборки\n",
        "\n",
        "Ячейку ниже можно позапускать визуализации для случайных пар треков из набора.   "
      ]
    },
    {
      "cell_type": "code",
      "metadata": {
        "id": "jfScaIAwEPRF",
        "colab_type": "code",
        "colab": {}
      },
      "source": [
        "i = sample.random_index()\n",
        "j = sample.random_index()\n",
        "print(i, j)\n",
        "plot_two(sample, i, j)\n",
        "\n",
        "# Не пересекаются:\n",
        "# 33 25\n",
        "# 21 31 - но едут рядом\n",
        "\n",
        "# Пересекаются:\n",
        "# 27 29\n",
        "# 29 19\n",
        "# 22 0\n",
        "# 26 22\n",
        "\n",
        "# Очень близкие:\n",
        "# 38 24\n",
        "# 24 42\n",
        "\n",
        "# Пересекаются, но лучше не объединять\n",
        "# (разный характер поездок)\n",
        "# 16 46\n",
        "\n",
        "# По факту движения не пересекаются:\n",
        "# 31 0"
      ],
      "execution_count": 0,
      "outputs": []
    },
    {
      "cell_type": "markdown",
      "metadata": {
        "id": "kIVvOx_DJaI2",
        "colab_type": "text"
      },
      "source": [
        "### Расчет близости пары маршрутов (класс Proximity)"
      ]
    },
    {
      "cell_type": "markdown",
      "metadata": {
        "id": "FZtuu7FUMkEc",
        "colab_type": "text"
      },
      "source": [
        "Метрики близости для пары треков:\n",
        " - максимальное расстояние между точками маршрута\n",
        " - минимальное расстояние между точками маршрута\n",
        " - количество близких точек\n",
        " - покрытие одного маршрута другим"
      ]
    },
    {
      "cell_type": "code",
      "metadata": {
        "id": "Pa1JRsi1gG6Q",
        "colab_type": "code",
        "colab": {}
      },
      "source": [
        "\"\"\"Расчет близости маршрутов.\"\"\"\n",
        "\n",
        "import numpy as np \n",
        "from scipy.spatial.distance import cdist\n",
        "\n",
        "def distance_(a, b):\n",
        "  x1, y1 = a\n",
        "  x2, y2 = b\n",
        "  if np.isnan(x1) or np.isnan(x2):\n",
        "    return np.nan  \n",
        "  else:    \n",
        "    return distance_km(a, b)\n",
        "\n",
        "def get_distances(t1, t2):\n",
        "  p1 = points(t1)\n",
        "  p2 = points(t2)\n",
        "  return cdist(p1, p2, distance_)\n",
        "\n",
        "def mask_diagonal(mat, offset: int):\n",
        "  n = mat.shape[0]\n",
        "  ix = np.triu_indices(n, offset)\n",
        "  mat[ix] = np.nan\n",
        "  ix = np.tril_indices(n, -offset)\n",
        "  mat[ix] = np.nan\n",
        "  return mat\n",
        "\n",
        "def side_min(mat, axis):\n",
        "  x = np.nanmin(mat, axis)\n",
        "  return x[~np.isnan(x)]\n",
        "\n",
        "def side_points_covered(mat, axis, radius_km):\n",
        "    \"\"\"Доля столбцов или строк матрицы расстояний между треками,\n",
        "       в которых есть значения менее *radius_km*.\n",
        "       Используется как показатель \"перекрытия\" треков одного маршрута\n",
        "       другим маршрутом.\n",
        "       axis принимает значени 0 или 1.\n",
        "    \"\"\"\n",
        "    b = side_min(mat, axis)\n",
        "    return len(b[b <= radius_km]) / len(b)\n",
        "\n",
        "def side_points_covered_left(mat, radius_km):\n",
        "  return side_points_covered(mat, 1, radius_km)\n",
        "\n",
        "def side_points_covered_right(mat, radius_km):\n",
        "  return side_points_covered(mat, 0, radius_km)\n",
        "\n",
        "def proximity(sample: Sample, i: int, j: int):\n",
        "  \"\"\"Возвращает класс для анализа дистанций между парой треков.\"\"\"\n",
        "  return Proximity(sample.reduced[i], sample.reduced[j])\n",
        "\n",
        "def pct(x: float) -> str:\n",
        "  return f'{x*100:.0f}%'\n",
        "\n",
        "class Proximity:\n",
        "  \"\"\"Расчет и анализ дистанций между точками двух треков t1 и t2.\"\"\"\n",
        "  def __init__(self, t1, t2):\n",
        "    self.t1 = t1\n",
        "    self.t2 = t2\n",
        "    self.mat = get_distances(t1, t2)\n",
        "\n",
        "  def size(self):\n",
        "    return len(self.t1), len(self.t2)\n",
        "\n",
        "  def total_cells_count(self):\n",
        "    a, b = self.size()\n",
        "    return a * b  \n",
        "\n",
        "  def min(self):\n",
        "    \"\"\"\n",
        "    Минимиальное расстояние между всеми точками двух треков.\n",
        "    \"\"\"\n",
        "    return np.nanmin(self.mat)\n",
        "\n",
        "  def max(self):\n",
        "    \"\"\"\n",
        "    Максимальное расстояние между всеми точками двух треков.\n",
        "    \"\"\"\n",
        "    return np.amax(self.mat)\n",
        "  \n",
        "  def points_covered(self, radius_km):\n",
        "    \"\"\"Кортеж с показателями сближения для треков t1 и t2.\"\"\" \n",
        "    return (side_points_covered_left(self.mat, radius_km), \n",
        "            side_points_covered_right(self.mat, radius_km)\n",
        "            )\n",
        "\n",
        "  def describe(self):\n",
        "    return describe(self.t1), describe(self.t2)          \n",
        "\n",
        "  def plot_heatmap(self):\n",
        "    plot_heatmap(self.mat)\n",
        "\n",
        "  def plot_trips(self):\n",
        "    plot_trips([self.t1, self.t2])"
      ],
      "execution_count": 0,
      "outputs": []
    },
    {
      "cell_type": "markdown",
      "metadata": {
        "colab_type": "text",
        "id": "xBKbn3noZIhM"
      },
      "source": [
        "# Полный пример поиска сходимости  (end-to-end) с параметрами\n",
        "\n"
      ]
    },
    {
      "cell_type": "markdown",
      "metadata": {
        "id": "A6Ng7oaVYAnP",
        "colab_type": "text"
      },
      "source": [
        "\n",
        "\n",
        "\n",
        "На входе:\n",
        "\n",
        "- сырые данные треков поездок `df_full: pd.DataFrame`\n",
        "\n",
        "Шаги:\n",
        "\n",
        "1. создаем выборку треков по днями поездок и типам автомобилей\n",
        "2. проводим грубую апроксимацию треков (например, 10 точками на трек)\n",
        "3. отсекаем те пары треков, которые, скорее всего, не пересекаются\n",
        "4. проводим более тонкую\n",
        "апроксимацию оставшихся треков (например, с шагом каждый 1 или 5 км)\n",
        "5. снова перебираем оставшиеся пары треков, в каждой паре считаем какую часть пробега одного трека покрывает другой трек, с заданным радиусом\n",
        "6. треки в паре перекрываются не полностью, доля трека, которая совпадает в паре, разная для кажого трека:\n",
        "\n",
        "```\n",
        "                   3 км\n",
        "12 км [------------****]           3/12 = 25%\n",
        "                  [****----] 6 км   3/6 = 50%\n",
        "```\n",
        "\n",
        "7. сумма покрытий для пары треков представляет собой индикатор сходимости со значением от 0 до 2.0 (`0.75` для примера выше)\n",
        "8. у нас есть пары треков, проранжированные по суммарному индикатору сходимости \n",
        "\n",
        "Результат:\n",
        "\n",
        "- `prox_df: pd.DataFrame` пары треков с наибольшей сходимостью\n",
        "\n",
        "На основе этих пар мы далее показываем каталог близких поездок с высокими индикатором сходимости, как хорошие, так и пограничные случаи.  \n",
        "\n"
      ]
    },
    {
      "cell_type": "code",
      "metadata": {
        "id": "1kYm95QtxGvL",
        "colab_type": "code",
        "colab": {}
      },
      "source": [
        "# 1. Создаем выборку треков по дням и типам машин и упрощаем ее \n",
        "days = ['2019-09-12']\n",
        "modes = ['freight']\n",
        "df_subset = subset(df_full, days, modes)\n",
        "\n",
        "# Создаем упрощенные треки \n",
        "ten_segments = lambda t: spaced_dist(t, n=10, start=True, end=True)\n",
        "sample1 = reduce_with(make_sample(df_), ten_segments)"
      ],
      "execution_count": 0,
      "outputs": []
    },
    {
      "cell_type": "code",
      "metadata": {
        "id": "eIf46Yhz-r3Z",
        "colab_type": "code",
        "colab": {}
      },
      "source": [
        "# 2. Определяем пары треков - кандидаты на сближение\n",
        "close_enough_km = 5 # На каком расстоянии считать приближенные \n",
        "                    # треки сблизившимися?\n",
        "\n",
        "def df_rows_short(sample):\n",
        "  for (i, j) in sample.combinations():\n",
        "      p = proximity(sample, i, j)\n",
        "      yield (i, j), p.min(), p.max()\n",
        "\n",
        "def pair_df(sample):\n",
        "  return pd.DataFrame(df_rows_short(sample),\n",
        "                      columns = ['pair', 'min_dist', 'max_dist'])\n",
        "\n",
        "df = pair_df(sample1)\n",
        "pairs = df[df.min_dist < close_enough_km].pair\n",
        "print(\"Мы уменьшили количество пар для перебора примерно вдвое:\")\n",
        "len(pairs), len(df)"
      ],
      "execution_count": 0,
      "outputs": []
    },
    {
      "cell_type": "code",
      "metadata": {
        "id": "vtMTcyCiNp2X",
        "colab_type": "code",
        "colab": {}
      },
      "source": [
        "zoom = False # True False\n",
        "\n",
        "df.plot.scatter(x='min_dist', y='max_dist', alpha=0.75)\n",
        "plt.title(\"Минимальные и максимальные дистанции по парам треков\")\n",
        "plt.axvline(x=5, c='red')\n",
        "if zoom:\n",
        "  plt.xlim(0,10)\n",
        "  plt.ylim(0,150)\n",
        "plt.show()"
      ],
      "execution_count": 0,
      "outputs": []
    },
    {
      "cell_type": "code",
      "metadata": {
        "id": "9dfZqXgEFjK-",
        "colab_type": "code",
        "colab": {}
      },
      "source": [
        "# 3. Строим треки с увеличенной точностью\n",
        "step_km = 2.5  # шаг упрощения трека, предлагаем использовать 1, 2.5 или 5 км\n",
        "every_km = lambda t: equidist(t, step_km)\n",
        "sample2 = reduce_with(sample1, every_km)"
      ],
      "execution_count": 0,
      "outputs": []
    },
    {
      "cell_type": "code",
      "metadata": {
        "id": "mewSxXQxpp2e",
        "colab_type": "code",
        "colab": {}
      },
      "source": [
        "from pandas.testing import assert_frame_equal \n",
        "assert_frame_equal(sample1.raw[19], sample2.raw[19])\n",
        "assert sample2.raw[19].iloc[0].milage == 0 "
      ],
      "execution_count": 0,
      "outputs": []
    },
    {
      "cell_type": "code",
      "metadata": {
        "id": "rGthfdRvQFTG",
        "colab_type": "code",
        "colab": {}
      },
      "source": [
        "# 4. Определяем попарно, какую долю трека покрывает другой трек\n",
        "from tqdm import tqdm\n",
        "\n",
        "proximity_radius = 5 # На каком расстоянии мы считаем точки двух треков близкими?\n",
        "                     # Рекомендуется от 0.5 до 5 км\n",
        "\n",
        "def df_rows_(sample, pairs, radius):\n",
        "  for (i, j) in pairs:\n",
        "      p = proximity(sample, i, j)\n",
        "      a, b = p.points_covered(radius)\n",
        "      yield dict(pair=(i, j), \n",
        "                 min_dist=p.min(), \n",
        "                 max_dist=p.max(),\n",
        "                 cov_t1=a, \n",
        "                 cov_t2=b,\n",
        "                 len_t1=length(p.t1),\n",
        "                 len_t2=length(p.t2)\n",
        "                 )\n",
        "\n",
        "def proximity_df(sample, pairs, radius=proximity_radius):\n",
        "  gen = df_rows_(sample, pairs, radius)\n",
        "  return (pd.DataFrame(gen)\n",
        "            .assign(cov_total=lambda df: df.cov_t1+df.cov_t2)\n",
        "            .sort_values('cov_total', ascending=False)\n",
        "            .reset_index(drop=True))\n",
        "\n",
        "# Результат расчетов - метриками близости(сходимости) для каждой пары треков\n",
        "prox_df = proximity_df(sample2, pairs, proximity_radius)\n"
      ],
      "execution_count": 0,
      "outputs": []
    },
    {
      "cell_type": "code",
      "metadata": {
        "id": "sQiTS_b7r6Jg",
        "colab_type": "code",
        "colab": {}
      },
      "source": [
        "prox_df.head(20)"
      ],
      "execution_count": 0,
      "outputs": []
    },
    {
      "cell_type": "code",
      "metadata": {
        "id": "DgM-Xsbq8XYk",
        "colab_type": "code",
        "colab": {}
      },
      "source": [
        "plt.scatter(prox_df.index, prox_df.cov_total, s=0.5)\n",
        "plt.title(\"Суммарный индикатор сходимости\\nдля пары треков (от 0 до 2.0)\")\n",
        "plt.show()\n",
        "\n",
        "plt.scatter(prox_df.cov_t1, prox_df.cov_t2, s=0.8, alpha=0.8)\n",
        "plt.title(\"Покрытие маршрутов в паре треков\")\n",
        "plt.show()\n",
        "\n",
        "prox_df['len_total'] = prox_df.len_t1 + prox_df.len_t2 \n",
        "plt.scatter(prox_df.len_total, prox_df.cov_total, s=0.8, alpha=0.8)\n",
        "plt.title(\"Суммарная длина и сходимость пары треков\")\n",
        "plt.show()"
      ],
      "execution_count": 0,
      "outputs": []
    },
    {
      "cell_type": "markdown",
      "metadata": {
        "id": "bSgzGCyeiWK-",
        "colab_type": "text"
      },
      "source": [
        "## Все в одной функции \n"
      ]
    },
    {
      "cell_type": "code",
      "metadata": {
        "id": "ApI1xnD3gv6J",
        "colab_type": "code",
        "colab": {}
      },
      "source": [
        "def search_proximity(sample: Sample, \n",
        "           approx_func1 = lambda t: spaced_dist(t, n=10, start=True, end=True),\n",
        "           approx_func2 = lambda t: equidist(t, step_km = 2.5), \n",
        "           search_radius1 = 5,\n",
        "           search_radius2 = 2.5*1.2) -> pd.DataFrame:\n",
        "  \"\"\"\n",
        "  Функция для поиска сходимости.\n",
        "  \n",
        "  Принимает аргумент *sample:* - набор треков типа *Sample*.\n",
        "\n",
        "  Дефолтные параметры для поиска сходмости.\n",
        "\n",
        "  Апроксимации треков:\n",
        "  approx_func1 :: первичная апроксимация - трек представлен как 10 равных \n",
        "                  по длине сегментов\n",
        "  approx_func2 :: улучшенная апроксимация трека - каждые сегменты с равной \n",
        "                  длиной 2.5 км \n",
        "\n",
        "  Поиск сходимости: \n",
        "  search_radius1 :: первый поиск сходимости - в радиусе 5 км (рекомендуется \n",
        "                    значение от 3 до 10 км)\n",
        "  search_radius2 :: второй поиск сходимости - в радиусе 2.5 км + 20%\n",
        "\n",
        "  Возвращет датафрейм с параметрами сходимости.\n",
        "  \"\"\"\n",
        "  print(f'Working with sample of {len(sample)} tracks')\n",
        "  # делаем грубую апроксимацию треков\n",
        "  sample = reduce_with(sample, approx_func1)\n",
        "  print('Simplified tracks')\n",
        "  comb = len(list(sample.combinations()))\n",
        "  print(comb, 'pairs are possible')\n",
        "  # получаем список пар близких треков\n",
        "  df = pair_df(sample)\n",
        "  pairs = df[df.min_dist < search_radius1].pair\n",
        "  print(f'Found {len(pairs)} pairs to calculate proximity')\n",
        "  # делаем улучшенную апроксимацию треков \n",
        "  sample = reduce_with(sample, approx_func2)\n",
        "  print('Made better approximation of tracks')\n",
        "  print('Searching for proximity (can take long time, wait)...')\n",
        "  # получаем итоговую информацию о списке сошедшихся пар треков\n",
        "  prox_df = proximity_df(sample, pairs, search_radius2)\n",
        "  print('Found close track pairs, reporting...')\n",
        "  return prox_df\n",
        "\n",
        "days = ['2019-09-12']\n",
        "modes = ['freight']\n",
        "df_subset = subset(df_full, days, modes)\n",
        "sample = make_sample(df_subset) \n",
        "prox_df = search_proximity(sample)"
      ],
      "execution_count": 0,
      "outputs": []
    },
    {
      "cell_type": "markdown",
      "metadata": {
        "id": "TuoaTf0Ok9eE",
        "colab_type": "text"
      },
      "source": [
        "## Отрисовка пар сходимости"
      ]
    },
    {
      "cell_type": "code",
      "metadata": {
        "id": "fuCMHs4-L3dw",
        "colab_type": "code",
        "colab": {}
      },
      "source": [
        "def make_circle_plot(list_of_cars, list_of_pairs, figsize=(5, 5), dpi=150):\n",
        "  import math\n",
        "\n",
        "  list_of_cars = np.array(list_of_cars)\n",
        "\n",
        "  r = 10\n",
        "\n",
        "  x = []\n",
        "  y = []\n",
        "\n",
        "  fig = plt.figure(figsize=figsize, dpi=dpi)\n",
        "\n",
        "  n = len(list_of_cars)\n",
        "  for i in range(n):\n",
        "      \n",
        "      angle = (i/n)*(math.pi*2)\n",
        "      x.append(r*math.cos(angle))\n",
        "      y.append(r*math.sin(angle))\n",
        "\n",
        "  plt.scatter(x,y, s=100, marker='o', alpha=0.7, c='orange')\n",
        "\n",
        "  n = len(list_of_pairs)\n",
        "  for k in range(n):\n",
        "      pair = list_of_pairs[k]\n",
        "      i = np.where(list_of_cars == pair[0])[0][0]\n",
        "      j = np.where(list_of_cars == pair[1])[0][0]\n",
        "      \n",
        "      plt.plot([x[i],x[j]],[y[i],y[j]], 'o-', c='orange', linewidth=3, alpha=0.7, markersize=10)\n",
        "\n",
        "  plt.axes().set_aspect('equal', 'datalim')\n",
        "  plt.show()\n",
        "\n",
        "def all_ride_ids(prox_df):\n",
        "  return list(set(prox_df.pair.sum()))\n",
        "\n",
        "list_of_cars = all_ride_ids(prox_df)\n",
        "list_of_pairs = prox_df[prox_df.cov_total > 1.7].pair.tolist()\n",
        "\n",
        "make_circle_plot(list_of_cars, list_of_pairs, figsize=(5, 5), dpi=100)  "
      ],
      "execution_count": 0,
      "outputs": []
    },
    {
      "cell_type": "code",
      "metadata": {
        "id": "iXhfVIhKO-Rv",
        "colab_type": "code",
        "colab": {}
      },
      "source": [
        "# refactoring from above\n",
        "import matplotlib.pyplot as plt\n",
        "import numpy as np \n",
        "import math\n",
        "\n",
        "def dot_positions(n: int, radius: float):\n",
        "  xs = []\n",
        "  ys = []  \n",
        "  for i in range(n):\n",
        "    angle = math.pi/2 - (i/n)*(math.pi*2)\n",
        "    x=radius*math.cos(angle)\n",
        "    xs.append(x)\n",
        "    y=radius*math.sin(angle)\n",
        "    ys.append(y)\n",
        "  return xs, ys   \n",
        " \n",
        "def draw_ciferblat(xs, ys):   \n",
        "  args = dict(s=100, marker='o', alpha=0.7, c='orange')\n",
        "  ax = plt.scatter(xs, ys, **args)\n",
        "  plt.axes().set_aspect('equal', 'datalim')\n",
        "  plt.axes().axis('off')\n",
        "  return ax\n",
        "\n",
        "def draw_line(x1, x2, y1, y2):\n",
        "  plt.plot([x1, x2],[y1, y2], 'o-', c='orange', linewidth=3, alpha=0.7, markersize=10) \n",
        "\n",
        "def count_rides(pairs):\n",
        "  ps = [p for pair in pairs for p in pair]\n",
        "  return len(set(ps))\n",
        "\n",
        "def ordered_dict(pairs):\n",
        "  ps = [p for pair in pairs for p in pair]\n",
        "  c = Counter(ps)\n",
        "  return {z:i for i,z in enumerate([x[0] for x in c.most_common()])}\n",
        "\n",
        "def plot_clockwise(pairs, radius=5, figsize=(5, 5), dpi=150):\n",
        "  plt.figure(figsize=figsize, dpi=dpi)\n",
        "  n = count_rides(pairs)\n",
        "  xs, ys = dot_positions(n, radius)\n",
        "  mapper = ordered_dict(pairs)\n",
        "  draw_ciferblat(xs, ys)\n",
        "  for pair in pairs:\n",
        "    i, j = pair\n",
        "    i = mapper[i]\n",
        "    j = mapper[j]\n",
        "    draw_line(xs[i], xs[j], ys[i], ys[j])\n",
        "  return n \n",
        "\n",
        "threshold = 1.7\n",
        "pairs = prox_df.query(f\"cov_total>{threshold}\").pair.to_list()\n",
        "n = plot_clockwise(pairs)\n",
        "plt.title(f'Поездок со сходимостью в паре выше {threshold}: {n}') \n",
        "plt.show() \n",
        "\n"
      ],
      "execution_count": 0,
      "outputs": []
    },
    {
      "cell_type": "markdown",
      "metadata": {
        "id": "1sSdWcWOlJiu",
        "colab_type": "text"
      },
      "source": [
        "# 5. Каталог сходимости (примеры поездок)"
      ]
    },
    {
      "cell_type": "markdown",
      "metadata": {
        "id": "fznnG8Zkqrun",
        "colab_type": "text"
      },
      "source": [
        "Используемые данные:\n",
        "\n",
        "- `prox_df: pd.DataFrame` пары треков с наибольшей сходимостью\n",
        "- выборка данных `sample2: Sample`\n",
        "\n",
        "На основе этих пар мы далее показываем каталог близких поездок с высокими индикатором сходимости, как хорошие, так и пограничные случаи.\n"
      ]
    },
    {
      "cell_type": "code",
      "metadata": {
        "id": "LxI6Bcm1PIDJ",
        "colab_type": "code",
        "colab": {}
      },
      "source": [
        "def dec(x: float) -> str:\n",
        "  return f\"{x:.2f}\"\n",
        "\n",
        "def info(sample, i, j, search_radius, heatmap=True):\n",
        "  \"\"\"\n",
        "  Просмотр результатов расчета близости точек двух треков \n",
        "  с заданным радиусом сближения *search_radius*. \n",
        "  \n",
        "  Точки ближе  чем *search_radius* километров друг от друга \n",
        "  считаются сошедшимися.     \n",
        "  \"\"\"\n",
        "  print(\"Треки\", i, j)  \n",
        "  print(f\"Радиус поиска\", search_radius)\n",
        "  p = proximity(sample, i, j)\n",
        "  d1, d2 = p.describe()\n",
        "  a, b = p.points_covered(search_radius)\n",
        "  print(f\"Суммарная сходимость\", dec(a+b), \"(максимум 2)\")\n",
        "  for d, cov in zip([d1, d2], [a, b]):\n",
        "    print()\n",
        "    print(\"Автомобиль\", d.car)\n",
        "    print(\"Тип\", d.category)\n",
        "    print(\"Дата\", d.date)\n",
        "    print(\"Пробег\", d.milage)\n",
        "    print(\"Перекрытие другим треком\", dec(cov))\n",
        "  plot_two(sample, i, j)\n",
        "  if heatmap:\n",
        "    p.plot_heatmap()"
      ],
      "execution_count": 0,
      "outputs": []
    },
    {
      "cell_type": "code",
      "metadata": {
        "id": "RvKpI60jARG6",
        "colab_type": "code",
        "colab": {}
      },
      "source": [
        "info(sample2, 24, 39, 2.5)"
      ],
      "execution_count": 0,
      "outputs": []
    },
    {
      "cell_type": "code",
      "metadata": {
        "id": "9qtBsQgYFK6v",
        "colab_type": "code",
        "colab": {}
      },
      "source": [
        "# неравномерное перекрытие - пример\n",
        "info(sample2, 21, 34, 2.5)"
      ],
      "execution_count": 0,
      "outputs": []
    },
    {
      "cell_type": "markdown",
      "metadata": {
        "id": "F2SnQ4NaQ14e",
        "colab_type": "text"
      },
      "source": [
        "## Top 10 наиболее близких поездок\n",
        "\n",
        "Ниже мы показываем 10 пар поездок с коэффициентами сходимости близкими к 2. В этих парах поездок каждый путь покрывается другим путем почти на 100%.\n",
        "\n",
        "Возможны альтернативные сортировки, например:\n",
        "- поездки, где уменьшение дублирования даст наибольшее сниение пробега (высокая сходимость и длинный пробег);\n",
        "- поездки похожих типов (близкая длина и локация пути);\n",
        "- поездки с одной парковки.\n"
      ]
    },
    {
      "cell_type": "code",
      "metadata": {
        "id": "7CVNOO51-1uM",
        "colab_type": "code",
        "colab": {}
      },
      "source": [
        "new_radius = 1 # посмотрим на сближение с еще более точным радиусом поиска\n",
        "n = 10 \n",
        "top10 = [(i, j, new_radius) for [i, j] in prox_df.head(n).pair.to_list()]\n",
        "\n",
        "for (i, j, r) in top10:\n",
        "  info(sample2, i, j, r, heatmap=True)"
      ],
      "execution_count": 0,
      "outputs": []
    },
    {
      "cell_type": "markdown",
      "metadata": {
        "id": "9GLQ4KueY-8C",
        "colab_type": "text"
      },
      "source": [
        "## Примеры непересекающихся треков"
      ]
    },
    {
      "cell_type": "code",
      "metadata": {
        "id": "Gv5_6po4Zd92",
        "colab_type": "code",
        "colab": {}
      },
      "source": [
        "# Строго не пересекаются:\n",
        "# 33 25\n",
        "info(sample2, 33, 25, 2.5, False)"
      ],
      "execution_count": 0,
      "outputs": []
    },
    {
      "cell_type": "code",
      "metadata": {
        "id": "ESaOLyvVZjCB",
        "colab_type": "code",
        "colab": {}
      },
      "source": [
        "# Неравномерное перекрытие - межгород и город\n",
        "info(sample2, 21, 34, 2.5, False)"
      ],
      "execution_count": 0,
      "outputs": []
    },
    {
      "cell_type": "code",
      "metadata": {
        "id": "xGW5vwZsVsib",
        "colab_type": "code",
        "colab": {}
      },
      "source": [
        "# Едут рядом, не пересекаются, но если задать больший \n",
        "# радиус перекрытия (10 вместо 2.5), \n",
        "# то часть пути будет считаться близкой\n",
        "info(sample2, 21, 31, 2.5, False)"
      ],
      "execution_count": 0,
      "outputs": []
    },
    {
      "cell_type": "code",
      "metadata": {
        "id": "--npYkOrZ7Gm",
        "colab_type": "code",
        "colab": {}
      },
      "source": [
        "# Пересекаются в проекциях, но по факту движения не пересекаются:\n",
        "# 31 0\n",
        "info(sample2, 31, 0, 2.5)"
      ],
      "execution_count": 0,
      "outputs": []
    },
    {
      "cell_type": "markdown",
      "metadata": {
        "id": "BJ851Q6RRpq-",
        "colab_type": "text"
      },
      "source": [
        "# Результаты\n",
        "\n",
        "1. Мы построили работающий прототип системы для выявления близких треков поездок, реализованный в виде ноутбука Jupiter/Google Colab.\n",
        "\n",
        "2. За счет апрокисмации треков небольшим количеством точек (от 10 до 200 вместо нескольких тысяч) мы существенно снижаем время расчетов.\n",
        "\n",
        "3. В группу для сравнения треков может быть включена произвольная выборка \"машинодней\" (поездок автомобиля в течение суток) - по дням, типам машин или другим признакам.\n",
        "\n",
        "4. На примере одного дня грузовых перевозок 12.09.2019 мы находим значительное количество близких пар  треков. \n",
        "\n",
        "5. В паре треков сходимость (пересечение) измеряется долей точек трека одного автомобиля, которые находятся не далее заданного расстояния от любых точек трека другого автомобиля.\n",
        "\n",
        "6. В \"каталоге поездок\" мы показываем на пары треков с высокими показателями пересечения. Эти иллюстрации могут использоваться\n",
        "для обсуждения конкретных ситуаций с владельцами парка. \n"
      ]
    },
    {
      "cell_type": "markdown",
      "metadata": {
        "id": "RX5CFiY-6ehi",
        "colab_type": "text"
      },
      "source": [
        "# Экспериментальные расчеты \n",
        "\n",
        "### Cортировка по времени\n",
        "\n",
        "- упрощаем трек равными временными промежутками внтури суток (например, 1 час, 30 минут, 10 минут)\n",
        "- рассматриваем только основную диагональ матрицы расстояний с допуском на сдвиг по времени плюс или минус n часов\n",
        "- может сбоить на коротких отрисовках (1 минута)"
      ]
    },
    {
      "cell_type": "code",
      "metadata": {
        "id": "5nVT7Y6UnEQ4",
        "colab_type": "code",
        "colab": {}
      },
      "source": [
        "import datetime as dt\n",
        "\n",
        "from datetime import time, timedelta, date, datetime\n",
        "\n",
        "def time_seconds(t: Trip) -> [int]:\n",
        "  return [to_seconds(x) for x in t.time]\n",
        "\n",
        "def to_seconds(dt_obj: dt.time) -> int:\n",
        "  return (dt_obj.hour*60 + dt_obj.minute)*60 + dt_obj.second\n",
        "\n",
        "def to_str(seconds: int) -> str:\n",
        "  return str(timedelta(seconds=seconds))\n",
        "\n",
        "def to_time(seconds: int) -> dt.time:\n",
        "  return (datetime.min + timedelta(seconds=seconds)).time()\n",
        "\n",
        "def yield_times(increment) -> [dt.time]:\n",
        "    \"\"\"\n",
        "    Предоставить метки времени внутри суток с равными промежутками.\n",
        "    \"\"\"\n",
        "    delta = pd.Timedelta(increment)\n",
        "    end_of_day = pd.Timestamp('23:59:59') \n",
        "    x = pd.Timestamp('00:00:00')\n",
        "    yield x.time()\n",
        "    while True:        \n",
        "        x = x + delta\n",
        "        if x > end_of_day:\n",
        "          break\n",
        "        yield x.time()\n",
        "    yield end_of_day.time()   \n",
        "\n",
        "def time_range(increment=\"1h\") -> [dt.time]:\n",
        "  return [to_seconds(x) for x in yield_times(increment)]\n",
        "\n",
        "def match(xs: [int], \n",
        "          marks: [int], \n",
        "          tol: int):\n",
        "  marks = iter(marks)\n",
        "  for m in marks:\n",
        "    if m < xs[0]:\n",
        "      yield m # x was not available\n",
        "    else:\n",
        "      break  \n",
        "  for x in xs:\n",
        "    if x < m:\n",
        "      continue\n",
        "    if (x-m < tol):\n",
        "      yield x\n",
        "    m = next(marks)\n",
        "  for m in marks:\n",
        "      yield m # x was not available\n",
        "\n",
        "def trim_in_time(t: Trip, increment='1h', tolerance='5min') -> Trip:\n",
        "  \"\"\"\n",
        "  Сократить трек до точек по времени внутри суток.\n",
        "  Частота по умолчанию - каждый целый час. \n",
        "  \"\"\"\n",
        "  matches = match(xs=time_seconds(t),\n",
        "                  marks=time_range(increment),\n",
        "                  tol= pd.Timedelta(tolerance).seconds)\n",
        "  matches = [to_time(m) for m in matches]\n",
        "  return pd.DataFrame(matches, columns=['time']).merge(t, on='time', how='left') "
      ],
      "execution_count": 0,
      "outputs": []
    },
    {
      "cell_type": "code",
      "metadata": {
        "id": "uLTSUoVOyoZS",
        "colab_type": "code",
        "colab": {}
      },
      "source": [
        "# Посмотрим два близких по географии трека `t1` (19) и `t2` (24)\n",
        "# Они сближались по фактическому времени поездки\n",
        "\n",
        "t1 = sample1.raw[19]\n",
        "t2 = sample1.raw[24]\n",
        "reducer = lambda t: trim_in_time(t, '10min', '5min')\n",
        "p = Proximity(reducer(t2), reducer(t1))\n",
        "p.mat = mask_diagonal(p.mat, offset=3)\n",
        "p.plot_trips()\n",
        "p.plot_heatmap()\n",
        "p.points_covered(1)"
      ],
      "execution_count": 0,
      "outputs": []
    }
  ]
}